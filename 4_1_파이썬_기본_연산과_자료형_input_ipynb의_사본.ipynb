{
  "cells": [
    {
      "cell_type": "markdown",
      "metadata": {
        "id": "view-in-github",
        "colab_type": "text"
      },
      "source": [
        "<a href=\"https://colab.research.google.com/github/pkw1528-sys/stats/blob/main/4_1_%ED%8C%8C%EC%9D%B4%EC%8D%AC_%EA%B8%B0%EB%B3%B8_%EC%97%B0%EC%82%B0%EA%B3%BC_%EC%9E%90%EB%A3%8C%ED%98%95_input_ipynb%EC%9D%98_%EC%82%AC%EB%B3%B8.ipynb\" target=\"_parent\"><img src=\"https://colab.research.google.com/assets/colab-badge.svg\" alt=\"Open In Colab\"/></a>"
      ]
    },
    {
      "cell_type": "markdown",
      "metadata": {
        "id": "h63gKkC2u4F8"
      },
      "source": [
        "* 파이썬 공식 튜토리얼 :\n",
        "    * 영문 : https://docs.python.org/3/tutorial/introduction.html\n",
        "    * 한글 : https://docs.python.org/ko/3/tutorial/index.html\n",
        "\n",
        "\n",
        "## Zen of Python\n",
        "* 파이썬의 철학이 잘 담겨있는 Zen of Python 을 출력해 봅니다.\n",
        "    * \"아름다운 게 추한 것보다 낫다.\" (Beautiful is better than ugly)\n",
        "    * \"명시적인 것이 암시적인 것 보다 낫다.\" (Explicit is better than implicit)\n",
        "    * \"단순함이 복잡함보다 낫다.\" (Simple is better than complex)\n",
        "    * \"복잡함이 난해한 것보다 낫다.\" (Complex is better than complicated)\n",
        "    * \"가독성은 중요하다.\" (Readability counts)\n",
        "    \n",
        "* import를 통해 파이썬의 라이브러리나 패키지를 가져올 수 있습니다."
      ]
    },
    {
      "cell_type": "code",
      "execution_count": null,
      "metadata": {
        "id": "PxUHokR8sQ8q",
        "colab": {
          "base_uri": "https://localhost:8080/"
        },
        "outputId": "00f9fdbf-81f9-42c1-ad4f-4bcaca38b276"
      },
      "outputs": [
        {
          "output_type": "stream",
          "name": "stdout",
          "text": [
            "The Zen of Python, by Tim Peters\n",
            "\n",
            "Beautiful is better than ugly.\n",
            "Explicit is better than implicit.\n",
            "Simple is better than complex.\n",
            "Complex is better than complicated.\n",
            "Flat is better than nested.\n",
            "Sparse is better than dense.\n",
            "Readability counts.\n",
            "Special cases aren't special enough to break the rules.\n",
            "Although practicality beats purity.\n",
            "Errors should never pass silently.\n",
            "Unless explicitly silenced.\n",
            "In the face of ambiguity, refuse the temptation to guess.\n",
            "There should be one-- and preferably only one --obvious way to do it.\n",
            "Although that way may not be obvious at first unless you're Dutch.\n",
            "Now is better than never.\n",
            "Although never is often better than *right* now.\n",
            "If the implementation is hard to explain, it's a bad idea.\n",
            "If the implementation is easy to explain, it may be a good idea.\n",
            "Namespaces are one honking great idea -- let's do more of those!\n"
          ]
        }
      ],
      "source": [
        "# import this를 출력해 봅니다.\n",
        "import this"
      ]
    },
    {
      "cell_type": "markdown",
      "metadata": {
        "id": "t1ge96fjQhzS"
      },
      "source": [
        "## 숫자\n",
        "* https://docs.python.org/ko/3/tutorial/introduction.html#numbers"
      ]
    },
    {
      "cell_type": "code",
      "execution_count": null,
      "metadata": {
        "scrolled": true,
        "id": "ke-Br0ChQhzS",
        "colab": {
          "base_uri": "https://localhost:8080/"
        },
        "outputId": "1a97c3cf-da63-4e66-cfee-9c2622b60485"
      },
      "outputs": [
        {
          "output_type": "execute_result",
          "data": {
            "text/plain": [
              "1"
            ]
          },
          "metadata": {},
          "execution_count": 2
        }
      ],
      "source": [
        "# 정수 1을 출력해 봅니다.\n",
        "1"
      ]
    },
    {
      "cell_type": "code",
      "execution_count": null,
      "metadata": {
        "id": "F-IgeFk_QhzT",
        "colab": {
          "base_uri": "https://localhost:8080/"
        },
        "outputId": "8f9913f7-43a4-4c6a-e6c0-1e26d143e1a0"
      },
      "outputs": [
        {
          "output_type": "execute_result",
          "data": {
            "text/plain": [
              "1.0"
            ]
          },
          "metadata": {},
          "execution_count": 3
        }
      ],
      "source": [
        "# 실수 1을 출력해 봅니다.\n",
        "1.0"
      ]
    },
    {
      "cell_type": "code",
      "execution_count": null,
      "metadata": {
        "id": "BbhKHOExQhzU",
        "colab": {
          "base_uri": "https://localhost:8080/"
        },
        "outputId": "676e84fd-63a4-4955-b93b-857bdc117471"
      },
      "outputs": [
        {
          "output_type": "execute_result",
          "data": {
            "text/plain": [
              "int"
            ]
          },
          "metadata": {},
          "execution_count": 5
        }
      ],
      "source": [
        "# 정수 1의 타입을 출력해 봅니다.\n",
        "type(1)"
      ]
    },
    {
      "cell_type": "code",
      "execution_count": null,
      "metadata": {
        "id": "eSSmtroDQhzV",
        "colab": {
          "base_uri": "https://localhost:8080/"
        },
        "outputId": "41d056ef-7ee1-4cdf-809d-71684ca148ae"
      },
      "outputs": [
        {
          "output_type": "execute_result",
          "data": {
            "text/plain": [
              "float"
            ]
          },
          "metadata": {},
          "execution_count": 6
        }
      ],
      "source": [
        "# 실수 1의 타입을 출력해 봅니다.\n",
        "type(1.0)"
      ]
    },
    {
      "cell_type": "markdown",
      "metadata": {
        "id": "O0b7FFxXQhzW"
      },
      "source": [
        "## 사칙연산"
      ]
    },
    {
      "cell_type": "code",
      "execution_count": null,
      "metadata": {
        "id": "6tqimToGQhzW",
        "colab": {
          "base_uri": "https://localhost:8080/"
        },
        "outputId": "1209f79c-0099-4590-fc8e-0e89e61fa30e"
      },
      "outputs": [
        {
          "output_type": "execute_result",
          "data": {
            "text/plain": [
              "3"
            ]
          },
          "metadata": {},
          "execution_count": 7
        }
      ],
      "source": [
        "# 더하기\n",
        "1 + 2"
      ]
    },
    {
      "cell_type": "code",
      "execution_count": null,
      "metadata": {
        "id": "9Z01URb_QhzX",
        "colab": {
          "base_uri": "https://localhost:8080/"
        },
        "outputId": "aa39fd46-26ee-41e4-991c-bad33d9db9ce"
      },
      "outputs": [
        {
          "output_type": "execute_result",
          "data": {
            "text/plain": [
              "1"
            ]
          },
          "metadata": {},
          "execution_count": 8
        }
      ],
      "source": [
        "# 빼기\n",
        "3 - 2"
      ]
    },
    {
      "cell_type": "code",
      "execution_count": null,
      "metadata": {
        "id": "0ownjvS6QhzY",
        "colab": {
          "base_uri": "https://localhost:8080/"
        },
        "outputId": "ddf926d0-2046-4fa1-a07d-6846dbacc66d"
      },
      "outputs": [
        {
          "output_type": "execute_result",
          "data": {
            "text/plain": [
              "6"
            ]
          },
          "metadata": {},
          "execution_count": 9
        }
      ],
      "source": [
        "# 곱하기\n",
        "2 * 3"
      ]
    },
    {
      "cell_type": "code",
      "execution_count": null,
      "metadata": {
        "id": "tOWOhpzsQhzY",
        "colab": {
          "base_uri": "https://localhost:8080/"
        },
        "outputId": "9fa782ce-39d4-46c7-aec7-02a086a5f956"
      },
      "outputs": [
        {
          "output_type": "execute_result",
          "data": {
            "text/plain": [
              "1.5"
            ]
          },
          "metadata": {},
          "execution_count": 10
        }
      ],
      "source": [
        "# 나누기\n",
        "3 / 2"
      ]
    },
    {
      "cell_type": "code",
      "execution_count": null,
      "metadata": {
        "id": "Gr20kFwEQhzZ",
        "colab": {
          "base_uri": "https://localhost:8080/"
        },
        "outputId": "e8a62845-2009-42b1-f9de-a81c2d00b51d"
      },
      "outputs": [
        {
          "output_type": "execute_result",
          "data": {
            "text/plain": [
              "1"
            ]
          },
          "metadata": {},
          "execution_count": 12
        }
      ],
      "source": [
        "# 나누기 후 몫만 반환\n",
        "3 // 2"
      ]
    },
    {
      "cell_type": "code",
      "execution_count": null,
      "metadata": {
        "id": "ocneX_NkQhzZ",
        "colab": {
          "base_uri": "https://localhost:8080/"
        },
        "outputId": "9334d497-5383-4ac8-c47c-ad927c0d73fa"
      },
      "outputs": [
        {
          "output_type": "execute_result",
          "data": {
            "text/plain": [
              "1"
            ]
          },
          "metadata": {},
          "execution_count": 14
        }
      ],
      "source": [
        "# 나누기 후 나머지만 반환\n",
        "3 % 2"
      ]
    },
    {
      "cell_type": "markdown",
      "metadata": {
        "id": "8LZ3MulhQhza"
      },
      "source": [
        "## 변수\n",
        "* 변수명은 숫자로 시작할 수 없습니다.\n",
        "* 변수명은 언더바(_)를 제외한 특수문자를 사용할 수 없습니다.\n",
        "\n",
        "```\n",
        "---------------------------------------------------------------------------\n",
        "NameError                                 Traceback (most recent call last)\n",
        "<ipython-input-26-ab0680a89434> in <module>\n",
        "----> 1 n\n",
        "\n",
        "NameError: name 'n' is not defined\n",
        "\n",
        "```"
      ]
    },
    {
      "cell_type": "code",
      "execution_count": null,
      "metadata": {
        "id": "IUzbCsu1Qhza",
        "colab": {
          "base_uri": "https://localhost:8080/"
        },
        "outputId": "ac3c4e56-a00d-4157-bd25-429943f2b809"
      },
      "outputs": [
        {
          "output_type": "execute_result",
          "data": {
            "text/plain": [
              "1"
            ]
          },
          "metadata": {},
          "execution_count": 17
        }
      ],
      "source": [
        "# 정의되지 않은 변수를 출력해 보면 어떤 오류 메시지가 나오는지 확인해 봅니다.\n",
        "n1 = 1\n",
        "n1"
      ]
    },
    {
      "cell_type": "markdown",
      "metadata": {
        "id": "NUOW9QurQhzb"
      },
      "source": [
        "## 응용\n",
        "* 변수에 값을 할당하고 면적을 구해 봅니다."
      ]
    },
    {
      "cell_type": "code",
      "execution_count": null,
      "metadata": {
        "id": "wJpYYmgZQhzb",
        "colab": {
          "base_uri": "https://localhost:8080/"
        },
        "outputId": "6f6613a9-43f0-4051-bda3-ee8aec024216"
      },
      "outputs": [
        {
          "output_type": "execute_result",
          "data": {
            "text/plain": [
              "100"
            ]
          },
          "metadata": {},
          "execution_count": 18
        }
      ],
      "source": [
        "width = 20\n",
        "height = 5\n",
        "width * height"
      ]
    },
    {
      "cell_type": "markdown",
      "metadata": {
        "id": "u_1ZGYzvQhzb"
      },
      "source": [
        "## 문자열\n",
        "* https://docs.python.org/ko/3/tutorial/introduction.html#strings\n",
        "### 문자열 정의"
      ]
    },
    {
      "cell_type": "code",
      "execution_count": null,
      "metadata": {
        "id": "gCzZci1GQhzc",
        "colab": {
          "base_uri": "https://localhost:8080/",
          "height": 36
        },
        "outputId": "2391569a-8628-4d56-aee3-2267db815340"
      },
      "outputs": [
        {
          "output_type": "execute_result",
          "data": {
            "text/plain": [
              "'파이썬'"
            ],
            "application/vnd.google.colaboratory.intrinsic+json": {
              "type": "string"
            }
          },
          "metadata": {},
          "execution_count": 19
        }
      ],
      "source": [
        "# 큰따옴표로 문자열을 정의합니다.\n",
        "\"파이썬\""
      ]
    },
    {
      "cell_type": "code",
      "execution_count": null,
      "metadata": {
        "id": "8eHvhRt3Qhzc",
        "colab": {
          "base_uri": "https://localhost:8080/",
          "height": 36
        },
        "outputId": "8545e996-3245-4ae4-8fae-42cb27a13467"
      },
      "outputs": [
        {
          "output_type": "execute_result",
          "data": {
            "text/plain": [
              "'파이썬'"
            ],
            "application/vnd.google.colaboratory.intrinsic+json": {
              "type": "string"
            }
          },
          "metadata": {},
          "execution_count": 20
        }
      ],
      "source": [
        "# 작은따옴표로 문자열을 정의합니다.\n",
        "'파이썬'"
      ]
    },
    {
      "cell_type": "code",
      "execution_count": null,
      "metadata": {
        "id": "H5udepJYQhzc",
        "colab": {
          "base_uri": "https://localhost:8080/",
          "height": 36
        },
        "outputId": "b86c7088-11f7-48cd-bf24-4106401ca7a8"
      },
      "outputs": [
        {
          "output_type": "execute_result",
          "data": {
            "text/plain": [
              "\"파이썬's\""
            ],
            "application/vnd.google.colaboratory.intrinsic+json": {
              "type": "string"
            }
          },
          "metadata": {},
          "execution_count": 53
        }
      ],
      "source": [
        "# 큰따옴표와 작은따옴표의 차이를 알아봅니다.\n",
        "'파이썬\\'s'"
      ]
    },
    {
      "cell_type": "code",
      "execution_count": null,
      "metadata": {
        "id": "6efERI33Qhzd",
        "colab": {
          "base_uri": "https://localhost:8080/",
          "height": 36
        },
        "outputId": "7fd409c6-e8a2-49df-8354-111f373a352e"
      },
      "outputs": [
        {
          "output_type": "execute_result",
          "data": {
            "text/plain": [
              "'\\n줄바꿈\\n문자를\\n표현합니다\\n'"
            ],
            "application/vnd.google.colaboratory.intrinsic+json": {
              "type": "string"
            }
          },
          "metadata": {},
          "execution_count": 27
        }
      ],
      "source": [
        "# 줄바꿈 문자를 표현합니다.\n",
        "\"\"\"\n",
        "줄바꿈\n",
        "문자를\n",
        "표현합니다\n",
        "\"\"\""
      ]
    },
    {
      "cell_type": "code",
      "execution_count": null,
      "metadata": {
        "id": "kghoxEFDQhzd",
        "colab": {
          "base_uri": "https://localhost:8080/",
          "height": 36
        },
        "outputId": "cd28a4a2-07f2-4e52-9da7-6db7606e440b"
      },
      "outputs": [
        {
          "output_type": "execute_result",
          "data": {
            "text/plain": [
              "'--------------------------------------------------'"
            ],
            "application/vnd.google.colaboratory.intrinsic+json": {
              "type": "string"
            }
          },
          "metadata": {},
          "execution_count": 28
        }
      ],
      "source": [
        "# *를 통해 문자를 반복 출력합니다.\n",
        "\"-\" * 50"
      ]
    },
    {
      "cell_type": "markdown",
      "metadata": {
        "id": "g0h124s-Qhzd"
      },
      "source": [
        "### 문자열 인덱싱\n",
        "\n",
        "\n",
        "```\n",
        " +---+---+---+---+---+---+\n",
        " | P | y | t | h | o | n |\n",
        " +---+---+---+---+---+---+\n",
        " 0   1   2   3   4   5   6\n",
        "-6  -5  -4  -3  -2  -1\n",
        "```"
      ]
    },
    {
      "cell_type": "code",
      "execution_count": null,
      "metadata": {
        "id": "A6Z9iscSQhzd",
        "colab": {
          "base_uri": "https://localhost:8080/",
          "height": 36
        },
        "outputId": "69dc8f4a-b072-47e9-e5cf-6bdb8117c0fd"
      },
      "outputs": [
        {
          "output_type": "execute_result",
          "data": {
            "text/plain": [
              "\"Python's hobby?\""
            ],
            "application/vnd.google.colaboratory.intrinsic+json": {
              "type": "string"
            }
          },
          "metadata": {},
          "execution_count": 10
        }
      ],
      "source": [
        "# 변수에 담긴 문자열의 위치를 알아봅니다.\n",
        "word = \"Python's hobby?\"\n",
        "word"
      ]
    },
    {
      "cell_type": "code",
      "execution_count": null,
      "metadata": {
        "id": "-NE4gVFrQhze",
        "colab": {
          "base_uri": "https://localhost:8080/",
          "height": 36
        },
        "outputId": "0b1df53a-9b00-48a4-e826-13d32a51fe28"
      },
      "outputs": [
        {
          "output_type": "execute_result",
          "data": {
            "text/plain": [
              "'P'"
            ],
            "application/vnd.google.colaboratory.intrinsic+json": {
              "type": "string"
            }
          },
          "metadata": {},
          "execution_count": 31
        }
      ],
      "source": [
        "# 0번 인덱스의 원소를 가져옵니다.\n",
        "word[0]"
      ]
    },
    {
      "cell_type": "code",
      "execution_count": null,
      "metadata": {
        "id": "DNOW0qNtQhze",
        "colab": {
          "base_uri": "https://localhost:8080/",
          "height": 36
        },
        "outputId": "6db04665-8b41-4a30-dd72-13ff7186fdbd"
      },
      "outputs": [
        {
          "output_type": "execute_result",
          "data": {
            "text/plain": [
              "'y'"
            ],
            "application/vnd.google.colaboratory.intrinsic+json": {
              "type": "string"
            }
          },
          "metadata": {},
          "execution_count": 32
        }
      ],
      "source": [
        "# 1번 인덱스의 원소를 가져옵니다.\n",
        "word[1]"
      ]
    },
    {
      "cell_type": "code",
      "execution_count": null,
      "metadata": {
        "id": "RJCfEfObQhze",
        "colab": {
          "base_uri": "https://localhost:8080/",
          "height": 36
        },
        "outputId": "a3f17c14-8e5b-45e9-ed35-ff37a1f8e9e3"
      },
      "outputs": [
        {
          "output_type": "execute_result",
          "data": {
            "text/plain": [
              "'?'"
            ],
            "application/vnd.google.colaboratory.intrinsic+json": {
              "type": "string"
            }
          },
          "metadata": {},
          "execution_count": 33
        }
      ],
      "source": [
        "# 마지막 인덱스의 원소를 가져옵니다.\n",
        "word[-1]"
      ]
    },
    {
      "cell_type": "markdown",
      "metadata": {
        "id": "pTNauOyoQhzf"
      },
      "source": [
        "### 문자열 슬라이싱"
      ]
    },
    {
      "cell_type": "code",
      "execution_count": null,
      "metadata": {
        "id": "_tpuW-gQQhzf",
        "colab": {
          "base_uri": "https://localhost:8080/",
          "height": 36
        },
        "outputId": "eebe2e51-ee85-45ee-fcef-22107e377cfd"
      },
      "outputs": [
        {
          "output_type": "execute_result",
          "data": {
            "text/plain": [
              "'Python'"
            ],
            "application/vnd.google.colaboratory.intrinsic+json": {
              "type": "string"
            }
          },
          "metadata": {},
          "execution_count": 35
        }
      ],
      "source": [
        "# [시작인덱스:끝나는인덱스+1] 로 문자열의 일부를 가져옵니다.\n",
        "# 앞에서 6개 글자만 가져옵니다.\n",
        "word[0:6]"
      ]
    },
    {
      "cell_type": "code",
      "execution_count": null,
      "metadata": {
        "id": "QylnADTwQhzf",
        "colab": {
          "base_uri": "https://localhost:8080/",
          "height": 36
        },
        "outputId": "911e8b6d-d5ff-4c42-bdb4-4fef5f6ec591"
      },
      "outputs": [
        {
          "output_type": "execute_result",
          "data": {
            "text/plain": [
              "'hobby?'"
            ],
            "application/vnd.google.colaboratory.intrinsic+json": {
              "type": "string"
            }
          },
          "metadata": {},
          "execution_count": 37
        }
      ],
      "source": [
        "# 뒤에서 6개 글자만 가져옵니다.\n",
        "word[-6:]"
      ]
    },
    {
      "cell_type": "code",
      "execution_count": null,
      "metadata": {
        "id": "-5OMsabAQhzf",
        "colab": {
          "base_uri": "https://localhost:8080/",
          "height": 36
        },
        "outputId": "bd2383cf-8d30-4ceb-c16f-9b4b8b986062"
      },
      "outputs": [
        {
          "output_type": "execute_result",
          "data": {
            "text/plain": [
              "'thon'"
            ],
            "application/vnd.google.colaboratory.intrinsic+json": {
              "type": "string"
            }
          },
          "metadata": {},
          "execution_count": 39
        }
      ],
      "source": [
        "# 2번 인덱스부터 4개의 글자만 가져옵니다.\n",
        "word[2:6]"
      ]
    },
    {
      "cell_type": "markdown",
      "metadata": {
        "id": "e5NNpQs0Qhzg"
      },
      "source": [
        "### 문자열 함수\n",
        "* https://docs.python.org/ko/3/library/stdtypes.html#string-methods"
      ]
    },
    {
      "cell_type": "code",
      "execution_count": null,
      "metadata": {
        "id": "jM2scosQQhzg",
        "colab": {
          "base_uri": "https://localhost:8080/",
          "height": 36
        },
        "outputId": "605c8b7d-57f4-456c-d97d-e57dd9059fed"
      },
      "outputs": [
        {
          "output_type": "execute_result",
          "data": {
            "text/plain": [
              "\"python's hobby?\""
            ],
            "application/vnd.google.colaboratory.intrinsic+json": {
              "type": "string"
            }
          },
          "metadata": {},
          "execution_count": 13
        }
      ],
      "source": [
        "# 소문자로 변환합니다.\n",
        "word.lower()"
      ]
    },
    {
      "cell_type": "code",
      "execution_count": null,
      "metadata": {
        "id": "ZaLoRTKmQhzg",
        "colab": {
          "base_uri": "https://localhost:8080/",
          "height": 36
        },
        "outputId": "30b5e72d-3ebb-4916-f052-14f64b88b76f"
      },
      "outputs": [
        {
          "output_type": "execute_result",
          "data": {
            "text/plain": [
              "\"PYTHON'S HOBBY?\""
            ],
            "application/vnd.google.colaboratory.intrinsic+json": {
              "type": "string"
            }
          },
          "metadata": {},
          "execution_count": 14
        }
      ],
      "source": [
        "# 대문자로 변환합니다.\n",
        "word.upper()"
      ]
    },
    {
      "cell_type": "markdown",
      "metadata": {
        "id": "2wON4u48Qhzh"
      },
      "source": [
        "## 리스트\n",
        "* https://docs.python.org/ko/3/tutorial/introduction.html#lists"
      ]
    },
    {
      "cell_type": "code",
      "execution_count": null,
      "metadata": {
        "id": "IL54Ihr9Qhzh",
        "colab": {
          "base_uri": "https://localhost:8080/"
        },
        "outputId": "08da8946-be24-4504-f74d-3bf73942bd5a"
      },
      "outputs": [
        {
          "output_type": "execute_result",
          "data": {
            "text/plain": [
              "[1, 4, 9, 16, 25]"
            ]
          },
          "metadata": {},
          "execution_count": 16
        }
      ],
      "source": [
        "# 리스트 값을 생성합니다.\n",
        "squares = [1, 4, 9, 16, 25]\n",
        "squares"
      ]
    },
    {
      "cell_type": "markdown",
      "metadata": {
        "id": "BnPYuqBFQhzh"
      },
      "source": [
        "### 리스트 인덱싱"
      ]
    },
    {
      "cell_type": "code",
      "execution_count": null,
      "metadata": {
        "id": "hScYJAQqQhz4",
        "colab": {
          "base_uri": "https://localhost:8080/"
        },
        "outputId": "a2be8c55-876d-41b7-cb9c-925aa89ffd63"
      },
      "outputs": [
        {
          "output_type": "execute_result",
          "data": {
            "text/plain": [
              "1"
            ]
          },
          "metadata": {},
          "execution_count": 17
        }
      ],
      "source": [
        "# 인덱스 번호는 0부터 시작합니다. 0번 인덱스를 가져옵니다.\n",
        "squares[0]"
      ]
    },
    {
      "cell_type": "code",
      "execution_count": null,
      "metadata": {
        "id": "7uNTQqmRQhz5",
        "colab": {
          "base_uri": "https://localhost:8080/"
        },
        "outputId": "dc3288aa-ee2b-4c6a-dc63-eee1168b2613"
      },
      "outputs": [
        {
          "output_type": "execute_result",
          "data": {
            "text/plain": [
              "25"
            ]
          },
          "metadata": {},
          "execution_count": 18
        }
      ],
      "source": [
        "# 마지막 인덱스는 -1 로 가져올 수 있습니다.\n",
        "squares[-1]"
      ]
    },
    {
      "cell_type": "code",
      "execution_count": null,
      "metadata": {
        "id": "K7GAfoLVQhz5",
        "colab": {
          "base_uri": "https://localhost:8080/"
        },
        "outputId": "4a3d3d5e-07a6-47ff-9b94-3c271a606dfe"
      },
      "outputs": [
        {
          "output_type": "execute_result",
          "data": {
            "text/plain": [
              "9"
            ]
          },
          "metadata": {},
          "execution_count": 19
        }
      ],
      "source": [
        "# 뒤에서 3번째 값을 가져옵니다.\n",
        "squares[-3]"
      ]
    },
    {
      "cell_type": "markdown",
      "metadata": {
        "id": "VmlOV27yQhz6"
      },
      "source": [
        "### 리스트 슬라이싱"
      ]
    },
    {
      "cell_type": "code",
      "execution_count": null,
      "metadata": {
        "id": "8Am0ybHBQhz6",
        "colab": {
          "base_uri": "https://localhost:8080/"
        },
        "outputId": "894cc359-e547-4cf2-c0e6-821d9f1bf5a2"
      },
      "outputs": [
        {
          "output_type": "execute_result",
          "data": {
            "text/plain": [
              "[1, 4, 9]"
            ]
          },
          "metadata": {},
          "execution_count": 21
        }
      ],
      "source": [
        "# [시작인덱스:끝나는인덱스+1]\n",
        "squares[0:3]"
      ]
    },
    {
      "cell_type": "markdown",
      "metadata": {
        "id": "tIeBKB5uQhz6"
      },
      "source": [
        "### 리스트의 함수"
      ]
    },
    {
      "cell_type": "code",
      "execution_count": null,
      "metadata": {
        "id": "UuXzxpSpQhz6",
        "colab": {
          "base_uri": "https://localhost:8080/"
        },
        "outputId": "cc3cd73f-20b8-4ecd-b790-15c126af063a"
      },
      "outputs": [
        {
          "output_type": "execute_result",
          "data": {
            "text/plain": [
              "[1, 4, 9, 16, 25, 36, 36]"
            ]
          },
          "metadata": {},
          "execution_count": 34
        }
      ],
      "source": [
        "# append로 값을 추가합니다.\n",
        "squares.append(36)\n",
        "squares"
      ]
    },
    {
      "cell_type": "code",
      "execution_count": null,
      "metadata": {
        "id": "E0Jy0rJ2Qhz7"
      },
      "outputs": [],
      "source": [
        "# remove로 값을 제거합니다.\n",
        "squares.remove(36)"
      ]
    },
    {
      "cell_type": "markdown",
      "metadata": {
        "id": "aOa8Xy8tQhz7"
      },
      "source": [
        "## 딕셔너리\n",
        "* https://docs.python.org/ko/3/tutorial/datastructures.html#dictionaries"
      ]
    },
    {
      "cell_type": "code",
      "source": [
        "type({})"
      ],
      "metadata": {
        "colab": {
          "base_uri": "https://localhost:8080/"
        },
        "id": "kc_z97L2MJUW",
        "outputId": "f97a9e74-288a-487e-d9ea-f111f4e6e62b"
      },
      "execution_count": null,
      "outputs": [
        {
          "output_type": "execute_result",
          "data": {
            "text/plain": [
              "dict"
            ]
          },
          "metadata": {},
          "execution_count": 37
        }
      ]
    },
    {
      "cell_type": "code",
      "execution_count": null,
      "metadata": {
        "id": "4rh2U9GUQhz8",
        "colab": {
          "base_uri": "https://localhost:8080/"
        },
        "outputId": "227098eb-a556-47a9-a046-09116c58455f"
      },
      "outputs": [
        {
          "output_type": "execute_result",
          "data": {
            "text/plain": [
              "{'고구마': 4139, '감자': 4098, '쪽파': 100}"
            ]
          },
          "metadata": {},
          "execution_count": 38
        }
      ],
      "source": [
        "# {키:값} 형식으로 되어 있습니다.\n",
        "# 딕셔너리를 정의합니다.\n",
        "# 재고라는 이름을 갖는 변수에 고구마, 감자, 쪽파의 수량을 표시해 봅니다.\n",
        "재고 = {'고구마': 4139, '감자': 4098, '쪽파': 100}\n",
        "재고"
      ]
    },
    {
      "cell_type": "code",
      "execution_count": null,
      "metadata": {
        "scrolled": true,
        "id": "LrD8PDOGQhz8",
        "colab": {
          "base_uri": "https://localhost:8080/"
        },
        "outputId": "3e2a6e7b-264a-4b1e-a93e-0b34fb6771fa"
      },
      "outputs": [
        {
          "output_type": "execute_result",
          "data": {
            "text/plain": [
              "{'고구마': 4139, '감자': 4098, '쪽파': 100, '대파': 345}"
            ]
          },
          "metadata": {},
          "execution_count": 41
        }
      ],
      "source": [
        "# 재고에 대파를 추가해 봅니다.\n",
        "재고[\"대파\"] = 345\n",
        "재고"
      ]
    },
    {
      "cell_type": "code",
      "execution_count": null,
      "metadata": {
        "id": "bpNkUgMkQhz8",
        "colab": {
          "base_uri": "https://localhost:8080/"
        },
        "outputId": "eb7480c3-2d23-402a-d530-6d99b37c70fd"
      },
      "outputs": [
        {
          "output_type": "execute_result",
          "data": {
            "text/plain": [
              "345"
            ]
          },
          "metadata": {},
          "execution_count": 42
        }
      ],
      "source": [
        "# 키를 통해 \"대파\"의 값을 가져옵니다.\n",
        "재고[\"대파\"]"
      ]
    },
    {
      "cell_type": "code",
      "execution_count": null,
      "metadata": {
        "id": "4eMmaWQXQhz9",
        "colab": {
          "base_uri": "https://localhost:8080/"
        },
        "outputId": "d747930d-b71c-4307-8c3a-ba14a6833b6e"
      },
      "outputs": [
        {
          "output_type": "execute_result",
          "data": {
            "text/plain": [
              "{'고구마': 4139, '감자': 4098, '쪽파': 100, '대파': 345, '양파': 643}"
            ]
          },
          "metadata": {},
          "execution_count": 44
        }
      ],
      "source": [
        "# \"양파\" 도 추가해 봅니다.\n",
        "재고[\"양파\"] = 643\n",
        "재고"
      ]
    },
    {
      "cell_type": "code",
      "execution_count": null,
      "metadata": {
        "id": "2vG4XXsjQhz9"
      },
      "outputs": [],
      "source": [
        "# del을 통해 값을 제거할 수 있습니다.\n",
        "del 재고[\"양파\"]\n"
      ]
    },
    {
      "cell_type": "code",
      "execution_count": null,
      "metadata": {
        "id": "GWeXW2DpQhz9",
        "colab": {
          "base_uri": "https://localhost:8080/"
        },
        "outputId": "319641a4-2243-42d0-d35a-e266a5cf7004"
      },
      "outputs": [
        {
          "output_type": "execute_result",
          "data": {
            "text/plain": [
              "{'고구마': 4139, '감자': 4098, '쪽파': 100, '대파': 345}"
            ]
          },
          "metadata": {},
          "execution_count": 47
        }
      ],
      "source": [
        "# 값이 잘 제거되었는지 확인합니다.\n",
        "재고"
      ]
    },
    {
      "cell_type": "code",
      "execution_count": null,
      "metadata": {
        "id": "geueyphhQhz-",
        "colab": {
          "base_uri": "https://localhost:8080/"
        },
        "outputId": "6138d70e-332a-42a7-9ad6-8658174f279e"
      },
      "outputs": [
        {
          "output_type": "execute_result",
          "data": {
            "text/plain": [
              "['고구마', '감자', '쪽파', '대파']"
            ]
          },
          "metadata": {},
          "execution_count": 48
        }
      ],
      "source": [
        "# dict를 list로 반환합니다. 이 때 키값을 가져와 리스트로 생성합니다.\n",
        "list(재고)"
      ]
    },
    {
      "cell_type": "code",
      "execution_count": null,
      "metadata": {
        "id": "KZdWnrKqQhz-",
        "colab": {
          "base_uri": "https://localhost:8080/"
        },
        "outputId": "37c21b71-d493-4120-a0eb-c9da770efc45"
      },
      "outputs": [
        {
          "output_type": "execute_result",
          "data": {
            "text/plain": [
              "['감자', '고구마', '대파', '쪽파']"
            ]
          },
          "metadata": {},
          "execution_count": 49
        }
      ],
      "source": [
        "# sorted를 사용해 재고 변수에 담긴 딕셔너리의 키값을 기준으로 정렬합니다.\n",
        "sorted(재고)"
      ]
    },
    {
      "cell_type": "code",
      "execution_count": null,
      "metadata": {
        "id": "o_QTFCJ6Qhz-",
        "colab": {
          "base_uri": "https://localhost:8080/"
        },
        "outputId": "5f6e924b-bc3f-4d0a-fe49-6c7fcaa2517c"
      },
      "outputs": [
        {
          "output_type": "execute_result",
          "data": {
            "text/plain": [
              "dict_keys(['고구마', '감자', '쪽파', '대파'])"
            ]
          },
          "metadata": {},
          "execution_count": 51
        }
      ],
      "source": [
        "재고.keys()"
      ]
    },
    {
      "cell_type": "code",
      "source": [
        "재고.values()"
      ],
      "metadata": {
        "colab": {
          "base_uri": "https://localhost:8080/"
        },
        "id": "Re4UVJyWM24j",
        "outputId": "039a8dd1-81af-4bd4-e914-147e5b41fb0a"
      },
      "execution_count": null,
      "outputs": [
        {
          "output_type": "execute_result",
          "data": {
            "text/plain": [
              "dict_values([4139, 4098, 100, 345])"
            ]
          },
          "metadata": {},
          "execution_count": 52
        }
      ]
    },
    {
      "cell_type": "code",
      "source": [],
      "metadata": {
        "id": "ihNBAxl3M61p"
      },
      "execution_count": null,
      "outputs": []
    }
  ],
  "metadata": {
    "colab": {
      "provenance": [],
      "include_colab_link": true
    },
    "kernelspec": {
      "display_name": "Python 3",
      "language": "python",
      "name": "python3"
    },
    "language_info": {
      "codemirror_mode": {
        "name": "ipython",
        "version": 3
      },
      "file_extension": ".py",
      "mimetype": "text/x-python",
      "name": "python",
      "nbconvert_exporter": "python",
      "pygments_lexer": "ipython3",
      "version": "3.7.6"
    },
    "toc": {
      "base_numbering": 1,
      "nav_menu": {},
      "number_sections": true,
      "sideBar": true,
      "skip_h1_title": false,
      "title_cell": "Table of Contents",
      "title_sidebar": "Contents",
      "toc_cell": false,
      "toc_position": {},
      "toc_section_display": true,
      "toc_window_display": false
    },
    "varInspector": {
      "cols": {
        "lenName": 16,
        "lenType": 16,
        "lenVar": 40
      },
      "kernels_config": {
        "python": {
          "delete_cmd_postfix": "",
          "delete_cmd_prefix": "del ",
          "library": "var_list.py",
          "varRefreshCmd": "print(var_dic_list())"
        },
        "r": {
          "delete_cmd_postfix": ") ",
          "delete_cmd_prefix": "rm(",
          "library": "var_list.r",
          "varRefreshCmd": "cat(var_dic_list()) "
        }
      },
      "types_to_exclude": [
        "module",
        "function",
        "builtin_function_or_method",
        "instance",
        "_Feature"
      ],
      "window_display": false
    }
  },
  "nbformat": 4,
  "nbformat_minor": 0
}